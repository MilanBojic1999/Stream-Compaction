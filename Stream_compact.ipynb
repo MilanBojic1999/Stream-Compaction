{
  "nbformat": 4,
  "nbformat_minor": 0,
  "metadata": {
    "colab": {
      "name": "Stream_compact.ipynb",
      "provenance": [],
      "collapsed_sections": []
    },
    "kernelspec": {
      "name": "python3",
      "display_name": "Python 3"
    },
    "accelerator": "GPU"
  },
  "cells": [
    {
      "cell_type": "code",
      "metadata": {
        "colab": {
          "base_uri": "https://localhost:8080/"
        },
        "id": "iLfC0NdABpTV",
        "outputId": "6e9013ae-5127-4382-9d93-71561e10f7f4"
      },
      "source": [
        "!pip install pycuda"
      ],
      "execution_count": 1,
      "outputs": [
        {
          "output_type": "stream",
          "text": [
            "Requirement already satisfied: pycuda in /usr/local/lib/python3.7/dist-packages (2020.1)\n",
            "Requirement already satisfied: pytools>=2011.2 in /usr/local/lib/python3.7/dist-packages (from pycuda) (2021.1)\n",
            "Requirement already satisfied: appdirs>=1.4.0 in /usr/local/lib/python3.7/dist-packages (from pycuda) (1.4.4)\n",
            "Requirement already satisfied: mako in /usr/local/lib/python3.7/dist-packages (from pycuda) (1.1.4)\n",
            "Requirement already satisfied: decorator>=3.2.0 in /usr/local/lib/python3.7/dist-packages (from pycuda) (4.4.2)\n",
            "Requirement already satisfied: numpy>=1.6.0 in /usr/local/lib/python3.7/dist-packages (from pytools>=2011.2->pycuda) (1.19.5)\n",
            "Requirement already satisfied: MarkupSafe>=0.9.2 in /usr/local/lib/python3.7/dist-packages (from mako->pycuda) (1.1.1)\n"
          ],
          "name": "stdout"
        }
      ]
    },
    {
      "cell_type": "code",
      "metadata": {
        "id": "kqBp6RQPBsJb"
      },
      "source": [
        "!nvidia-smi"
      ],
      "execution_count": null,
      "outputs": []
    },
    {
      "cell_type": "markdown",
      "metadata": {
        "id": "hZdazp1E-94_"
      },
      "source": [
        "# CUDA implementation"
      ]
    },
    {
      "cell_type": "code",
      "metadata": {
        "id": "UzA83kj5BmWk"
      },
      "source": [
        "import numpy as np\r\n",
        "import pycuda.driver as cuda\r\n",
        "import pycuda.autoinit\r\n",
        "from pycuda.compiler import SourceModule\r\n",
        "import math\r\n",
        "from itertools import accumulate "
      ],
      "execution_count": 43,
      "outputs": []
    },
    {
      "cell_type": "code",
      "metadata": {
        "id": "ZQJvHuLh-6Hi"
      },
      "source": [
        "def cuda_validation(file):\r\n",
        "  if file is None:\r\n",
        "    return None\r\n",
        "  \r\n",
        "  s = \"\"\r\n",
        "  with open(file,'r') as f:\r\n",
        "    for line in f:\r\n",
        "      line = line[:-1]\r\n",
        "      s = s+line\r\n",
        "  \r\n",
        "\r\n",
        "  sb = s.encode('utf-8')\r\n",
        "  sb_len = len(sb)\r\n",
        "  cnt = np.full((sb_len),0,dtype=np.int32)\r\n",
        "  cnt_cuda = cuda.mem_alloc(cnt.nbytes)\r\n",
        "  cuda.memcpy_htod(cnt_cuda,cnt)\r\n",
        "\r\n",
        "  s_cuda = cuda.mem_alloc(sb_len)\r\n",
        "  cuda.memcpy_htod(s_cuda,sb)\r\n",
        "\r\n",
        "  funct_str = SourceModule(\"\"\"\r\n",
        "\r\n",
        "  __device__ char good_char(char ch){\r\n",
        "    return ch!=32;//(ch<48 || ch>57);\r\n",
        "  }\r\n",
        "\r\n",
        "  __global__ void faza12(char* s,int* out,int size){\r\n",
        "      \r\n",
        "      int blockPosition = blockIdx.x * blockDim.x;\r\n",
        "      int col = threadIdx.x;\r\n",
        "      __shared__ int sum[1024];\r\n",
        "      if(col+blockPosition<size){\r\n",
        "        \r\n",
        "        char ch = s[col+blockPosition];\r\n",
        "\r\n",
        "        if (good_char(ch)){\r\n",
        "          sum[col] = 1;\r\n",
        "        }else{\r\n",
        "          sum[col] = 0;\r\n",
        "        }\r\n",
        "\r\n",
        "        \r\n",
        "        int offset = 1;\r\n",
        "        for(int d = 1024>>1;d>0;d>>=1){\r\n",
        "          __syncthreads();\r\n",
        "          if(col<d){\r\n",
        "            int ai = offset*(2*col+1)-1;\r\n",
        "            int bi = offset*(2*col+2)-1;\r\n",
        "\r\n",
        "            sum[bi] += sum[ai];\r\n",
        "          }\r\n",
        "          offset *= 2;\r\n",
        "        }\r\n",
        "\r\n",
        "        if(col == 0){\r\n",
        "          sum[1023] = 0;\r\n",
        "        }\r\n",
        "\r\n",
        "        for(int d = 1;d<1024;d*=2){\r\n",
        "          offset >>= 1;\r\n",
        "          __syncthreads();\r\n",
        "          if(col < d){\r\n",
        "            int ai = offset*(2*col+1)-1;\r\n",
        "            int bi = offset*(2*col+2)-1;\r\n",
        "\r\n",
        "            int tmp = sum[ai];\r\n",
        "            sum[ai] = sum[bi];\r\n",
        "            sum[bi] += tmp;\r\n",
        "          }\r\n",
        "        }\r\n",
        "\r\n",
        "        __syncthreads();\r\n",
        "        if(col%1024 == 0){\r\n",
        "          int i = 0;\r\n",
        "          for(i=0;i<1024;++i){\r\n",
        "            if(i+blockPosition<size){\r\n",
        "              out[i+blockPosition] = sum[i];\r\n",
        "            }\r\n",
        "          }\r\n",
        "        }\r\n",
        "      }\r\n",
        "  }\r\n",
        "\r\n",
        "  __global__ void faza3(char* s,int* pos,int* offsetArr,char* out,int size){\r\n",
        "      \r\n",
        "      int blockPosition = blockIdx.x;\r\n",
        "      int worldPosition = blockPosition * blockDim.x;\r\n",
        "      int col = threadIdx.x + worldPosition;\r\n",
        "      __shared__ int realOffset;\r\n",
        "      char ch = s[col];\r\n",
        "      \r\n",
        "      if(col%1024 == 0){\r\n",
        "        realOffset = offsetArr[blockPosition];\r\n",
        "      }\r\n",
        "      __syncthreads();\r\n",
        "      if(good_char(ch) && realOffset+pos[col]<size){\r\n",
        "        out[realOffset+pos[col]] = ch;\r\n",
        "      }\r\n",
        "  }\r\n",
        "\r\n",
        "  \"\"\")\r\n",
        "  func = funct_str.get_function(\"faza12\")\r\n",
        "  func(s_cuda,cnt_cuda,np.int32(sb_len),block = (1024,1,1), grid = (math.ceil((sb_len/1024)),1,1))\r\n",
        "  cuda.memcpy_dtoh(cnt,cnt_cuda)\r\n",
        "\r\n",
        "  ends = cnt[::1023]\r\n",
        "  block_offsets = list(accumulate(ends))\r\n",
        "  out_len = int(block_offsets[-1]+cnt[-1])+1\r\n",
        "\r\n",
        "  res_arr_np = np.full((out_len),1,dtype=np.byte)\r\n",
        "  out_cuda = cuda.mem_alloc(res_arr_np.nbytes)\r\n",
        "  cuda.memcpy_htod(out_cuda,res_arr_np)\r\n",
        "\r\n",
        "  off_np = np.array(block_offsets,dtype=np.int32)\r\n",
        "  off_cuda = cuda.mem_alloc(off_np.nbytes)\r\n",
        "  cuda.memcpy_htod(off_cuda,off_np)\r\n",
        "\r\n",
        "  func3 = funct_str.get_function(\"faza3\")\r\n",
        "  func3(s_cuda,cnt_cuda,off_cuda,out_cuda,np.int32(out_len),block = (1024,1,1), grid = (math.ceil((sb_len/1024)),1,1)) # (char* s,int* pos,int* offsetArr,char* out,int size)\r\n",
        "\r\n",
        "  cuda.memcpy_dtoh(res_arr_np,out_cuda)\r\n",
        "  result = (res_arr_np).tobytes().decode('UTF-8')\r\n",
        "  \r\n",
        "  return result"
      ],
      "execution_count": 65,
      "outputs": []
    },
    {
      "cell_type": "markdown",
      "metadata": {
        "id": "QqfzgrBz_CI-"
      },
      "source": [
        "# Sequential implementation"
      ]
    },
    {
      "cell_type": "code",
      "metadata": {
        "id": "rk0IUfilcUJP"
      },
      "source": [
        "def seq_validation(file):\r\n",
        "  if file is None:\r\n",
        "    return None\r\n",
        "  \r\n",
        "  def check_good(ch): \r\n",
        "    ch_asci = ord(ch)\r\n",
        "    return ch_asci != 32\r\n",
        "\r\n",
        "  s = \"\"\r\n",
        "  with open(file,'r') as f:\r\n",
        "    for line in f:\r\n",
        "      line = line[:-1]\r\n",
        "      s = s+line\r\n",
        "  \r\n",
        "  result = ''\r\n",
        "  for ch in s:\r\n",
        "    if check_good(ch):\r\n",
        "      result += ch\r\n",
        "  \r\n",
        "  return result"
      ],
      "execution_count": 63,
      "outputs": []
    },
    {
      "cell_type": "markdown",
      "metadata": {
        "id": "bymFqFKj_FKv"
      },
      "source": [
        "# Testing"
      ]
    },
    {
      "cell_type": "code",
      "metadata": {
        "id": "urlqZbXVEMN7"
      },
      "source": [
        "%%time\r\n",
        "cuda_validation('/content/drive/MyDrive/Colab Notebooks/Paralelni algoritmi/test_smpl.txt')"
      ],
      "execution_count": null,
      "outputs": []
    },
    {
      "cell_type": "code",
      "metadata": {
        "id": "Tb_QZdYycS3C"
      },
      "source": [
        "%%time\r\n",
        "seq_validation('/content/drive/MyDrive/Colab Notebooks/Paralelni algoritmi/test_smpl.txt')"
      ],
      "execution_count": null,
      "outputs": []
    },
    {
      "cell_type": "markdown",
      "metadata": {
        "id": "A8gE9HaH_FGV"
      },
      "source": [
        ""
      ]
    }
  ]
}